{
  "cells": [
    {
      "cell_type": "code",
      "execution_count": null,
      "metadata": {
        "id": "z2dpG0-3-8VJ"
      },
      "outputs": [],
      "source": [
        "# importing libraries\n",
        "\n",
        "import pandas as pd\n",
        "import numpy as np\n",
        "from sklearn.linear_model import LinearRegression\n",
        "from sklearn.metrics import mean_absolute_error, mean_squared_error, r2_score"
      ]
    },
    {
      "cell_type": "code",
      "source": [
        "#uploading the dataset\n",
        "from google.colab import files\n",
        "data = files.upload()\n",
        "data = pd.read_csv(\"insurance.csv\",encoding = \"latin1\") # latin1 makes the data more readable\n",
        "data\n"
      ],
      "metadata": {
        "id": "l7APJ-wbQ100"
      },
      "execution_count": null,
      "outputs": []
    },
    {
      "cell_type": "code",
      "source": [
        "# assigning numeric value to gender and smoker status\n",
        "\n",
        "data['sex'] = data['sex'].map({'male': 1, 'female': 0})\n",
        "data['smoker'] = data['smoker'].map({'no':0,'yes':1})\n",
        "data = data[['age','sex','bmi','children','smoker','charges']]\n",
        "data"
      ],
      "metadata": {
        "id": "BoyGdnWDRHR5"
      },
      "execution_count": null,
      "outputs": []
    },
    {
      "cell_type": "code",
      "source": [
        "data.corr()[\"charges\"] #finding correlation between different features from charges"
      ],
      "metadata": {
        "id": "LTxxnyrQRsa7"
      },
      "execution_count": null,
      "outputs": []
    },
    {
      "cell_type": "code",
      "source": [
        "data[data.isnull().any(axis=1)] #finding null values"
      ],
      "metadata": {
        "id": "JpYwVG-VTKmu"
      },
      "execution_count": null,
      "outputs": []
    },
    {
      "cell_type": "code",
      "source": [
        "#splitting training and testing data\n",
        "\n",
        "train_size = int(0.8*len(data))\n",
        "train_data = data[:train_size]\n",
        "test_data = data[train_size:]\n",
        "train_data\n"
      ],
      "metadata": {
        "id": "p4qc49sjTrJg"
      },
      "execution_count": null,
      "outputs": []
    },
    {
      "cell_type": "code",
      "source": [
        "x_train = train_data[['age','sex','bmi','children','smoker']] # using only valid features\n",
        "y_train = train_data[['charges']]\n",
        "\n",
        "x_test = test_data[['age','sex','bmi','children','smoker']]\n",
        "y_test = test_data[['charges']]\n",
        "\n",
        "\n",
        "test_data.shape"
      ],
      "metadata": {
        "id": "U2ZbHMLAUG3-"
      },
      "execution_count": null,
      "outputs": []
    },
    {
      "cell_type": "code",
      "source": [
        "# training the data\n",
        "model = LinearRegression()\n",
        "model.fit(x_train,y_train)\n",
        "y_pred = model.predict(x_test)\n",
        "print(\"predicted values: \",y_pred)"
      ],
      "metadata": {
        "id": "Y8s8MCWAUki9"
      },
      "execution_count": null,
      "outputs": []
    },
    {
      "cell_type": "code",
      "source": [
        "# finding various error and accuracy\n",
        "mae = mean_absolute_error(y_pred,y_test)\n",
        "mse = mean_squared_error(y_pred,y_test)\n",
        "r2 = r2_score(y_pred,y_test)\n",
        "print(\"Mean absolute error: \",mae)\n",
        "print(\"Mean squared error: \",mse)\n",
        "print(\"R2 score: \",r2)"
      ],
      "metadata": {
        "id": "QxJZYlvpVd2u"
      },
      "execution_count": null,
      "outputs": []
    },
    {
      "cell_type": "code",
      "source": [
        "print(\"Accuracy: \",r2*100)"
      ],
      "metadata": {
        "id": "Z3DHOE8dV5KP"
      },
      "execution_count": null,
      "outputs": []
    }
  ],
  "metadata": {
    "colab": {
      "provenance": []
    },
    "kernelspec": {
      "display_name": "Python 3",
      "name": "python3"
    },
    "language_info": {
      "name": "python"
    }
  },
  "nbformat": 4,
  "nbformat_minor": 0
}